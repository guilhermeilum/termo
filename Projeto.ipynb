{
 "cells": [
  {
   "attachments": {},
   "cell_type": "markdown",
   "metadata": {},
   "source": [
    "# Termodinamica avançada\n",
    "\n",
    "\n",
    "\n",
    "## Introdução\n",
    "\n",
    "O problema que foi apresentado para a turma é sobre os parâmetros relevantes envolvidos no funcionamento de um sistema composto por uma usina elétrica a vapor operando a partir da combustão de uma mistura líquida de combustíveis. INTRODUÇÃO CICLO RANKINE\n",
    "\n",
    "![Diagrama representativo](imagem/diagrama.png)\n",
    "\n",
    "## Primeiro desafio\n",
    "\n",
    "O primeiro desafio proposto é a escolha de uma mistura com potencial para fornecimento de energia ao ciclo Rankine (responsável pela geração de energia elétrica). A mistura escolhida pela dupla foi o Pentano(C<sub>5</sub>H<sub>12</sub>) e o Benzeno(C<sub>6</sub>H<sub>6</sub>).\n",
    "\n",
    "Para escolher a mistura adequada, foram considerados quatro critérios principais. O primeiro critério foi a entalpia, que mede a energia térmica envolvida na mistura. O segundo critério foi a disponibilidade de um diagrama de fases para a mistura, que nos dá a relação entre as fases de uma substância em várias temperaturas e pressões (McQuaire e Simon, 1957) . Esse diagrama será essencial nas próximas etapas do trabalho. Como não haverá experimentos para coletar os dados, é necessário ter um diagrama de fases pronto para viabilizar os estudos.\n",
    "\n",
    "Seguindo a mesma linha, o terceiro critério foi a \"popularidade\" dos componentes da mistura. Optamos por utilizar benzeno e pentano, substâncias amplamente conhecidas e estudadas, cujas informações são facilmente acessíveis. Isso facilitará a obtenção dos dados necessários para o projeto, como a entalpia.\n",
    "\n",
    "Por fim, o quarto critério foi o baixo ponto de vaporização dos elementos da mistura. O Ciclo Rankine funciona a partir da energia gerada pelo vapor, de modo que quanto menor a temperatura de vaporização, menor será a energia necessária para aquecer e vaporizar a mistura. Tanto o benzeno quanto o pentano apresentam pontos de vaporização relativamente baixos, o que os torna bons candidatos para aplicação no Ciclo Rankine. A temperatura de vaporização do benzeno é 80.1°C e do pentano é 36.1°C (quase em temperatura ambiente).\n",
    "\n",
    "![Diagrama de fase.](imagem/diagrama_fases.png)\n",
    "\n",
    "## Entalpia\n",
    "\n",
    "A entalpia que iremos utilizar para determinar a mistura é a entalpia de combustão, isso porque no desafio 3 terá a queima da mistura para aquecer o boiler.\n",
    "\n",
    "A entalpia de combustão é um valor utilizado para medir a energia total liberada em forma de calor quando a substâncias sofre combustão completa em presença de oxigênio em condições padrão.\n",
    "\n",
    "De acordo com o webbook o [benzeno](https://webbook.nist.gov/cgi/inchi?ID=C71432&Mask=2) possue entalpia de combustão de $-3267 \\pm 20$, e o [pentano](https://webbook.nist.gov/cgi/cbook.cgi?ID=C109660&Mask=1) de $-3535.4 \\pm  0.96$.\n",
    "\n",
    "\n"
   ]
  },
  {
   "cell_type": "code",
   "execution_count": null,
   "metadata": {},
   "outputs": [],
   "source": []
  }
 ],
 "metadata": {
  "kernelspec": {
   "display_name": "Python 3",
   "language": "python",
   "name": "python3"
  },
  "language_info": {
   "name": "python",
   "version": "3.9.7 (tags/v3.9.7:1016ef3, Aug 30 2021, 20:19:38) [MSC v.1929 64 bit (AMD64)]"
  },
  "orig_nbformat": 4,
  "vscode": {
   "interpreter": {
    "hash": "11938c6bc6919ae2720b4d5011047913343b08a43b18698fd82dedb0d4417594"
   }
  }
 },
 "nbformat": 4,
 "nbformat_minor": 2
}
